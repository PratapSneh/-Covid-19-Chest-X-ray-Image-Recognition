{
  "nbformat": 4,
  "nbformat_minor": 0,
  "metadata": {
    "colab": {
      "provenance": [],
      "authorship_tag": "ABX9TyNfWHI8q6rnHh1RoiSjB3j9",
      "include_colab_link": true
    },
    "kernelspec": {
      "name": "python3",
      "display_name": "Python 3"
    },
    "language_info": {
      "name": "python"
    },
    "accelerator": "GPU",
    "gpuClass": "standard"
  },
  "cells": [
    {
      "cell_type": "markdown",
      "metadata": {
        "id": "view-in-github",
        "colab_type": "text"
      },
      "source": [
        "<a href=\"https://colab.research.google.com/github/PratapSneh/-Covid-19-Chest-X-ray-Image-Recognition/blob/main/Project.ipynb\" target=\"_parent\"><img src=\"https://colab.research.google.com/assets/colab-badge.svg\" alt=\"Open In Colab\"/></a>"
      ]
    },
    {
      "cell_type": "markdown",
      "source": [
        "I have done all my project using google colab. Please open this file in colab."
      ],
      "metadata": {
        "id": "RN4TxnvmQp34"
      }
    },
    {
      "cell_type": "code",
      "source": [
        "import os\n",
        "os.environ['KAGGLE_USERNAME'] = \"snehpratapsingh\"\n",
        "os.environ['KAGGLE_KEY'] = \"3849fc83f86caa713e6ef85443ea0814\""
      ],
      "metadata": {
        "id": "eDfqzJEExdWe"
      },
      "execution_count": 1,
      "outputs": []
    },
    {
      "cell_type": "code",
      "source": [
        "! kaggle datasets download -d pranavraikokte/covid19-image-dataset"
      ],
      "metadata": {
        "colab": {
          "base_uri": "https://localhost:8080/"
        },
        "id": "DCX5b2kVyMXL",
        "outputId": "f79f7766-de01-470c-9cd2-0ad904f0becc"
      },
      "execution_count": 2,
      "outputs": [
        {
          "output_type": "stream",
          "name": "stdout",
          "text": [
            "Downloading covid19-image-dataset.zip to /content\n",
            " 91% 144M/158M [00:00<00:00, 307MB/s]\n",
            "100% 158M/158M [00:00<00:00, 291MB/s]\n"
          ]
        }
      ]
    },
    {
      "cell_type": "code",
      "source": [
        "#Your Kaggle API key is readable by other users on this system! To fix this, you can run 'chmod 600 /content/kaggle.json'\n",
        "!chmod 600 /content/kaggle.json"
      ],
      "metadata": {
        "id": "nS7AJQXWRUQF",
        "colab": {
          "base_uri": "https://localhost:8080/"
        },
        "outputId": "952f5f1c-01e7-456d-98f1-3559139c2fa7"
      },
      "execution_count": 3,
      "outputs": [
        {
          "output_type": "stream",
          "name": "stdout",
          "text": [
            "chmod: cannot access '/content/kaggle.json': No such file or directory\n"
          ]
        }
      ]
    },
    {
      "cell_type": "code",
      "source": [
        "!unzip covid19-image-dataset.zip"
      ],
      "metadata": {
        "colab": {
          "base_uri": "https://localhost:8080/"
        },
        "id": "QtEH4zQSRV-m",
        "outputId": "3f96fad2-df5c-47b8-ffc6-f4ea5919d13b"
      },
      "execution_count": 4,
      "outputs": [
        {
          "output_type": "stream",
          "name": "stdout",
          "text": [
            "Archive:  covid19-image-dataset.zip\n",
            "  inflating: Covid19-dataset/test/Covid/0100.jpeg  \n",
            "  inflating: Covid19-dataset/test/Covid/0102.jpeg  \n",
            "  inflating: Covid19-dataset/test/Covid/0105.png  \n",
            "  inflating: Covid19-dataset/test/Covid/0106.jpeg  \n",
            "  inflating: Covid19-dataset/test/Covid/0108.jpeg  \n",
            "  inflating: Covid19-dataset/test/Covid/0111.jpg  \n",
            "  inflating: Covid19-dataset/test/Covid/0112.jpg  \n",
            "  inflating: Covid19-dataset/test/Covid/0113.jpg  \n",
            "  inflating: Covid19-dataset/test/Covid/0115.jpeg  \n",
            "  inflating: Covid19-dataset/test/Covid/0118.jpeg  \n",
            "  inflating: Covid19-dataset/test/Covid/0119.jpeg  \n",
            "  inflating: Covid19-dataset/test/Covid/0120.jpg  \n",
            "  inflating: Covid19-dataset/test/Covid/094.png  \n",
            "  inflating: Covid19-dataset/test/Covid/096.png  \n",
            "  inflating: Covid19-dataset/test/Covid/098.jpeg  \n",
            "  inflating: Covid19-dataset/test/Covid/COVID-00003b.jpg  \n",
            "  inflating: Covid19-dataset/test/Covid/COVID-00012.jpg  \n",
            "  inflating: Covid19-dataset/test/Covid/COVID-00022.jpg  \n",
            "  inflating: Covid19-dataset/test/Covid/COVID-00033.jpg  \n",
            "  inflating: Covid19-dataset/test/Covid/COVID-00037.jpg  \n",
            "  inflating: Covid19-dataset/test/Covid/auntminnie-2020_01_31_20_24_2322_2020_01_31_x-ray_coronavirus_US.jpg  \n",
            "  inflating: Covid19-dataset/test/Covid/auntminnie-a-2020_01_28_23_51_6665_2020_01_28_Vietnam_coronavirus.jpeg  \n",
            "  inflating: Covid19-dataset/test/Covid/auntminnie-b-2020_01_28_23_51_6665_2020_01_28_Vietnam_coronavirus.jpeg  \n",
            "  inflating: Covid19-dataset/test/Covid/auntminnie-c-2020_01_28_23_51_6665_2020_01_28_Vietnam_coronavirus.jpeg  \n",
            "  inflating: Covid19-dataset/test/Covid/auntminnie-d-2020_01_28_23_51_6665_2020_01_28_Vietnam_coronavirus.jpeg  \n",
            "  inflating: Covid19-dataset/test/Covid/radiopaedia-2019-novel-coronavirus-infected-pneumonia.jpg  \n",
            "  inflating: Covid19-dataset/test/Normal/0101.jpeg  \n",
            "  inflating: Covid19-dataset/test/Normal/0102.jpeg  \n",
            "  inflating: Covid19-dataset/test/Normal/0103.jpeg  \n",
            "  inflating: Covid19-dataset/test/Normal/0105.jpeg  \n",
            "  inflating: Covid19-dataset/test/Normal/0106.jpeg  \n",
            "  inflating: Covid19-dataset/test/Normal/0107.jpeg  \n",
            "  inflating: Covid19-dataset/test/Normal/0108.jpeg  \n",
            "  inflating: Covid19-dataset/test/Normal/0109.jpeg  \n",
            "  inflating: Covid19-dataset/test/Normal/0110.jpeg  \n",
            "  inflating: Covid19-dataset/test/Normal/0111.jpeg  \n",
            "  inflating: Covid19-dataset/test/Normal/0112.jpeg  \n",
            "  inflating: Covid19-dataset/test/Normal/0114.jpeg  \n",
            "  inflating: Covid19-dataset/test/Normal/0115.jpeg  \n",
            "  inflating: Covid19-dataset/test/Normal/0116.jpeg  \n",
            "  inflating: Covid19-dataset/test/Normal/0117.jpeg  \n",
            "  inflating: Covid19-dataset/test/Normal/0118.jpeg  \n",
            "  inflating: Covid19-dataset/test/Normal/0119.jpeg  \n",
            "  inflating: Covid19-dataset/test/Normal/0120.jpeg  \n",
            "  inflating: Covid19-dataset/test/Normal/0121.jpeg  \n",
            "  inflating: Covid19-dataset/test/Normal/0122.jpeg  \n",
            "  inflating: Covid19-dataset/test/Viral Pneumonia/0101.jpeg  \n",
            "  inflating: Covid19-dataset/test/Viral Pneumonia/0102.jpeg  \n",
            "  inflating: Covid19-dataset/test/Viral Pneumonia/0103.jpeg  \n",
            "  inflating: Covid19-dataset/test/Viral Pneumonia/0104.jpeg  \n",
            "  inflating: Covid19-dataset/test/Viral Pneumonia/0105.jpeg  \n",
            "  inflating: Covid19-dataset/test/Viral Pneumonia/0106.jpeg  \n",
            "  inflating: Covid19-dataset/test/Viral Pneumonia/0107.jpeg  \n",
            "  inflating: Covid19-dataset/test/Viral Pneumonia/0108.jpeg  \n",
            "  inflating: Covid19-dataset/test/Viral Pneumonia/0109.jpeg  \n",
            "  inflating: Covid19-dataset/test/Viral Pneumonia/0110.jpeg  \n",
            "  inflating: Covid19-dataset/test/Viral Pneumonia/0111.jpeg  \n",
            "  inflating: Covid19-dataset/test/Viral Pneumonia/0112.jpeg  \n",
            "  inflating: Covid19-dataset/test/Viral Pneumonia/0113.jpeg  \n",
            "  inflating: Covid19-dataset/test/Viral Pneumonia/0114.jpeg  \n",
            "  inflating: Covid19-dataset/test/Viral Pneumonia/0115.jpeg  \n",
            "  inflating: Covid19-dataset/test/Viral Pneumonia/0116.jpeg  \n",
            "  inflating: Covid19-dataset/test/Viral Pneumonia/0117.jpeg  \n",
            "  inflating: Covid19-dataset/test/Viral Pneumonia/0118.jpeg  \n",
            "  inflating: Covid19-dataset/test/Viral Pneumonia/0119.jpeg  \n",
            "  inflating: Covid19-dataset/test/Viral Pneumonia/0120.jpeg  \n",
            "  inflating: Covid19-dataset/train/Covid/01.jpeg  \n",
            "  inflating: Covid19-dataset/train/Covid/010.png  \n",
            "  inflating: Covid19-dataset/train/Covid/012.jpeg  \n",
            "  inflating: Covid19-dataset/train/Covid/015.jpg  \n",
            "  inflating: Covid19-dataset/train/Covid/019.png  \n",
            "  inflating: Covid19-dataset/train/Covid/02.jpeg  \n",
            "  inflating: Covid19-dataset/train/Covid/020.jpg  \n",
            "  inflating: Covid19-dataset/train/Covid/021.jpeg  \n",
            "  inflating: Covid19-dataset/train/Covid/022.jpeg  \n",
            "  inflating: Covid19-dataset/train/Covid/024.jpeg  \n",
            "  inflating: Covid19-dataset/train/Covid/025.jpeg  \n",
            "  inflating: Covid19-dataset/train/Covid/026.jpeg  \n",
            "  inflating: Covid19-dataset/train/Covid/027.jpeg  \n",
            "  inflating: Covid19-dataset/train/Covid/03.jpeg  \n",
            "  inflating: Covid19-dataset/train/Covid/031.jpeg  \n",
            "  inflating: Covid19-dataset/train/Covid/032.jpeg  \n",
            "  inflating: Covid19-dataset/train/Covid/033.png  \n",
            "  inflating: Covid19-dataset/train/Covid/039.jpeg  \n",
            "  inflating: Covid19-dataset/train/Covid/04.png  \n",
            "  inflating: Covid19-dataset/train/Covid/040.jpeg  \n",
            "  inflating: Covid19-dataset/train/Covid/041.jpeg  \n",
            "  inflating: Covid19-dataset/train/Covid/042.jpeg  \n",
            "  inflating: Covid19-dataset/train/Covid/043.jpeg  \n",
            "  inflating: Covid19-dataset/train/Covid/044.jpeg  \n",
            "  inflating: Covid19-dataset/train/Covid/045.jpeg  \n",
            "  inflating: Covid19-dataset/train/Covid/046.jpeg  \n",
            "  inflating: Covid19-dataset/train/Covid/047.jpeg  \n",
            "  inflating: Covid19-dataset/train/Covid/048.jpeg  \n",
            "  inflating: Covid19-dataset/train/Covid/049.jpeg  \n",
            "  inflating: Covid19-dataset/train/Covid/050.jpeg  \n",
            "  inflating: Covid19-dataset/train/Covid/051.jpeg  \n",
            "  inflating: Covid19-dataset/train/Covid/052.jpeg  \n",
            "  inflating: Covid19-dataset/train/Covid/053.jpeg  \n",
            "  inflating: Covid19-dataset/train/Covid/054.jpeg  \n",
            "  inflating: Covid19-dataset/train/Covid/055.jpeg  \n",
            "  inflating: Covid19-dataset/train/Covid/056.jpg  \n",
            "  inflating: Covid19-dataset/train/Covid/057.jpeg  \n",
            "  inflating: Covid19-dataset/train/Covid/058.jpeg  \n",
            "  inflating: Covid19-dataset/train/Covid/059.jpeg  \n",
            "  inflating: Covid19-dataset/train/Covid/06.jpeg  \n",
            "  inflating: Covid19-dataset/train/Covid/060.jpeg  \n",
            "  inflating: Covid19-dataset/train/Covid/061.jpg  \n",
            "  inflating: Covid19-dataset/train/Covid/062.jpeg  \n",
            "  inflating: Covid19-dataset/train/Covid/064.jpg  \n",
            "  inflating: Covid19-dataset/train/Covid/065.jpeg  \n",
            "  inflating: Covid19-dataset/train/Covid/067.jpg  \n",
            "  inflating: Covid19-dataset/train/Covid/068.jpg  \n",
            "  inflating: Covid19-dataset/train/Covid/069.jpg  \n",
            "  inflating: Covid19-dataset/train/Covid/07.jpg  \n",
            "  inflating: Covid19-dataset/train/Covid/071.jpg  \n",
            "  inflating: Covid19-dataset/train/Covid/072.jpeg  \n",
            "  inflating: Covid19-dataset/train/Covid/073.jpg  \n",
            "  inflating: Covid19-dataset/train/Covid/074.jpg  \n",
            "  inflating: Covid19-dataset/train/Covid/076.jpg  \n",
            "  inflating: Covid19-dataset/train/Covid/078.jpeg  \n",
            "  inflating: Covid19-dataset/train/Covid/079.jpeg  \n",
            "  inflating: Covid19-dataset/train/Covid/08.jpeg  \n",
            "  inflating: Covid19-dataset/train/Covid/080.jpg  \n",
            "  inflating: Covid19-dataset/train/Covid/081.jpeg  \n",
            "  inflating: Covid19-dataset/train/Covid/082.jpg  \n",
            "  inflating: Covid19-dataset/train/Covid/083.jpeg  \n",
            "  inflating: Covid19-dataset/train/Covid/084.jpeg  \n",
            "  inflating: Covid19-dataset/train/Covid/085.jpeg  \n",
            "  inflating: Covid19-dataset/train/Covid/086.jpg  \n",
            "  inflating: Covid19-dataset/train/Covid/088.jpeg  \n",
            "  inflating: Covid19-dataset/train/Covid/089.jpg  \n",
            "  inflating: Covid19-dataset/train/Covid/09.png  \n",
            "  inflating: Covid19-dataset/train/Covid/090.jpeg  \n",
            "  inflating: Covid19-dataset/train/Covid/091.jpg  \n",
            "  inflating: Covid19-dataset/train/Covid/092.png  \n",
            "  inflating: Covid19-dataset/train/Covid/COVID-00001.jpg  \n",
            "  inflating: Covid19-dataset/train/Covid/COVID-00002.jpg  \n",
            "  inflating: Covid19-dataset/train/Covid/COVID-00003a.jpg  \n",
            "  inflating: Covid19-dataset/train/Covid/COVID-00003b.jpg  \n",
            "  inflating: Covid19-dataset/train/Covid/COVID-00004.jpg  \n",
            "  inflating: Covid19-dataset/train/Covid/COVID-00005.jpg  \n",
            "  inflating: Covid19-dataset/train/Covid/COVID-00006.jpg  \n",
            "  inflating: Covid19-dataset/train/Covid/COVID-00007.jpg  \n",
            "  inflating: Covid19-dataset/train/Covid/COVID-00008.jpg  \n",
            "  inflating: Covid19-dataset/train/Covid/COVID-00009.jpg  \n",
            "  inflating: Covid19-dataset/train/Covid/COVID-00010.jpg  \n",
            "  inflating: Covid19-dataset/train/Covid/COVID-00011.jpg  \n",
            "  inflating: Covid19-dataset/train/Covid/COVID-00012.jpg  \n",
            "  inflating: Covid19-dataset/train/Covid/COVID-00013a.jpg  \n",
            "  inflating: Covid19-dataset/train/Covid/COVID-00013b.jpg  \n",
            "  inflating: Covid19-dataset/train/Covid/COVID-00014.jpg  \n",
            "  inflating: Covid19-dataset/train/Covid/COVID-00015a.png  \n",
            "  inflating: Covid19-dataset/train/Covid/COVID-00015b.png  \n",
            "  inflating: Covid19-dataset/train/Covid/COVID-00016.jpg  \n",
            "  inflating: Covid19-dataset/train/Covid/COVID-00017.jpg  \n",
            "  inflating: Covid19-dataset/train/Covid/COVID-00018.jpg  \n",
            "  inflating: Covid19-dataset/train/Covid/COVID-00019.jpg  \n",
            "  inflating: Covid19-dataset/train/Covid/COVID-00020.jpg  \n",
            "  inflating: Covid19-dataset/train/Covid/COVID-00021.jpg  \n",
            "  inflating: Covid19-dataset/train/Covid/COVID-00022.jpg  \n",
            "  inflating: Covid19-dataset/train/Covid/COVID-00023.jpg  \n",
            "  inflating: Covid19-dataset/train/Covid/COVID-00024.jpg  \n",
            "  inflating: Covid19-dataset/train/Covid/COVID-00025.jpg  \n",
            "  inflating: Covid19-dataset/train/Covid/COVID-00026.jpg  \n",
            "  inflating: Covid19-dataset/train/Covid/COVID-00027.jpg  \n",
            "  inflating: Covid19-dataset/train/Covid/COVID-00028.jpg  \n",
            "  inflating: Covid19-dataset/train/Covid/COVID-00029.jpg  \n",
            "  inflating: Covid19-dataset/train/Covid/COVID-00030.jpg  \n",
            "  inflating: Covid19-dataset/train/Covid/COVID-00031.jpg  \n",
            "  inflating: Covid19-dataset/train/Covid/COVID-00032.jpg  \n",
            "  inflating: Covid19-dataset/train/Covid/COVID-00033.jpg  \n",
            "  inflating: Covid19-dataset/train/Covid/COVID-00034.jpg  \n",
            "  inflating: Covid19-dataset/train/Covid/COVID-00035.jpg  \n",
            "  inflating: Covid19-dataset/train/Covid/COVID-00036.jpg  \n",
            "  inflating: Covid19-dataset/train/Covid/COVID-00037.jpg  \n",
            "  inflating: Covid19-dataset/train/Covid/COVID-00038.jpg  \n",
            "  inflating: Covid19-dataset/train/Normal/01.jpeg  \n",
            "  inflating: Covid19-dataset/train/Normal/010.jpeg  \n",
            "  inflating: Covid19-dataset/train/Normal/011.jpeg  \n",
            "  inflating: Covid19-dataset/train/Normal/012.jpeg  \n",
            "  inflating: Covid19-dataset/train/Normal/013.jpeg  \n",
            "  inflating: Covid19-dataset/train/Normal/014.jpeg  \n",
            "  inflating: Covid19-dataset/train/Normal/015.jpeg  \n",
            "  inflating: Covid19-dataset/train/Normal/016.jpeg  \n",
            "  inflating: Covid19-dataset/train/Normal/017.jpeg  \n",
            "  inflating: Covid19-dataset/train/Normal/018.jpeg  \n",
            "  inflating: Covid19-dataset/train/Normal/019.jpeg  \n",
            "  inflating: Covid19-dataset/train/Normal/02.jpeg  \n",
            "  inflating: Covid19-dataset/train/Normal/020.jpeg  \n",
            "  inflating: Covid19-dataset/train/Normal/021.jpeg  \n",
            "  inflating: Covid19-dataset/train/Normal/022.jpeg  \n",
            "  inflating: Covid19-dataset/train/Normal/023.jpeg  \n",
            "  inflating: Covid19-dataset/train/Normal/024.jpeg  \n",
            "  inflating: Covid19-dataset/train/Normal/025.jpeg  \n",
            "  inflating: Covid19-dataset/train/Normal/03.jpeg  \n",
            "  inflating: Covid19-dataset/train/Normal/04.jpeg  \n",
            "  inflating: Covid19-dataset/train/Normal/05.jpeg  \n",
            "  inflating: Covid19-dataset/train/Normal/050.jpeg  \n",
            "  inflating: Covid19-dataset/train/Normal/051.jpeg  \n",
            "  inflating: Covid19-dataset/train/Normal/052.jpeg  \n",
            "  inflating: Covid19-dataset/train/Normal/053.jpeg  \n",
            "  inflating: Covid19-dataset/train/Normal/054.jpeg  \n",
            "  inflating: Covid19-dataset/train/Normal/055.jpeg  \n",
            "  inflating: Covid19-dataset/train/Normal/056.jpeg  \n",
            "  inflating: Covid19-dataset/train/Normal/057.jpeg  \n",
            "  inflating: Covid19-dataset/train/Normal/058.jpeg  \n",
            "  inflating: Covid19-dataset/train/Normal/059.jpeg  \n",
            "  inflating: Covid19-dataset/train/Normal/06.jpeg  \n",
            "  inflating: Covid19-dataset/train/Normal/060.jpeg  \n",
            "  inflating: Covid19-dataset/train/Normal/061.jpeg  \n",
            "  inflating: Covid19-dataset/train/Normal/062.jpeg  \n",
            "  inflating: Covid19-dataset/train/Normal/063.jpeg  \n",
            "  inflating: Covid19-dataset/train/Normal/064.jpeg  \n",
            "  inflating: Covid19-dataset/train/Normal/065.jpeg  \n",
            "  inflating: Covid19-dataset/train/Normal/066.jpeg  \n",
            "  inflating: Covid19-dataset/train/Normal/067.jpeg  \n",
            "  inflating: Covid19-dataset/train/Normal/068.jpeg  \n",
            "  inflating: Covid19-dataset/train/Normal/069.jpeg  \n",
            "  inflating: Covid19-dataset/train/Normal/07.jpeg  \n",
            "  inflating: Covid19-dataset/train/Normal/070.jpeg  \n",
            "  inflating: Covid19-dataset/train/Normal/071.jpeg  \n",
            "  inflating: Covid19-dataset/train/Normal/072.jpeg  \n",
            "  inflating: Covid19-dataset/train/Normal/073.jpeg  \n",
            "  inflating: Covid19-dataset/train/Normal/074.jpeg  \n",
            "  inflating: Covid19-dataset/train/Normal/075.jpeg  \n",
            "  inflating: Covid19-dataset/train/Normal/076.jpeg  \n",
            "  inflating: Covid19-dataset/train/Normal/077.jpeg  \n",
            "  inflating: Covid19-dataset/train/Normal/079.jpeg  \n",
            "  inflating: Covid19-dataset/train/Normal/08.jpeg  \n",
            "  inflating: Covid19-dataset/train/Normal/080.jpeg  \n",
            "  inflating: Covid19-dataset/train/Normal/081.jpeg  \n",
            "  inflating: Covid19-dataset/train/Normal/082.jpeg  \n",
            "  inflating: Covid19-dataset/train/Normal/083.jpeg  \n",
            "  inflating: Covid19-dataset/train/Normal/084.jpeg  \n",
            "  inflating: Covid19-dataset/train/Normal/085.jpeg  \n",
            "  inflating: Covid19-dataset/train/Normal/086.jpeg  \n",
            "  inflating: Covid19-dataset/train/Normal/087.jpeg  \n",
            "  inflating: Covid19-dataset/train/Normal/088.jpeg  \n",
            "  inflating: Covid19-dataset/train/Normal/09.jpeg  \n",
            "  inflating: Covid19-dataset/train/Normal/091.jpeg  \n",
            "  inflating: Covid19-dataset/train/Normal/092.jpeg  \n",
            "  inflating: Covid19-dataset/train/Normal/093.jpeg  \n",
            "  inflating: Covid19-dataset/train/Normal/094.jpeg  \n",
            "  inflating: Covid19-dataset/train/Normal/095.jpeg  \n",
            "  inflating: Covid19-dataset/train/Normal/096.jpeg  \n",
            "  inflating: Covid19-dataset/train/Normal/097.jpeg  \n",
            "  inflating: Covid19-dataset/train/Viral Pneumonia/01.jpeg  \n",
            "  inflating: Covid19-dataset/train/Viral Pneumonia/010.jpeg  \n",
            "  inflating: Covid19-dataset/train/Viral Pneumonia/011.jpeg  \n",
            "  inflating: Covid19-dataset/train/Viral Pneumonia/012.jpeg  \n",
            "  inflating: Covid19-dataset/train/Viral Pneumonia/013.jpeg  \n",
            "  inflating: Covid19-dataset/train/Viral Pneumonia/016.jpeg  \n",
            "  inflating: Covid19-dataset/train/Viral Pneumonia/018.jpeg  \n",
            "  inflating: Covid19-dataset/train/Viral Pneumonia/019.jpeg  \n",
            "  inflating: Covid19-dataset/train/Viral Pneumonia/02.jpeg  \n",
            "  inflating: Covid19-dataset/train/Viral Pneumonia/020.jpeg  \n",
            "  inflating: Covid19-dataset/train/Viral Pneumonia/021.jpeg  \n",
            "  inflating: Covid19-dataset/train/Viral Pneumonia/022.jpeg  \n",
            "  inflating: Covid19-dataset/train/Viral Pneumonia/023.jpeg  \n",
            "  inflating: Covid19-dataset/train/Viral Pneumonia/024.jpeg  \n",
            "  inflating: Covid19-dataset/train/Viral Pneumonia/025.jpeg  \n",
            "  inflating: Covid19-dataset/train/Viral Pneumonia/027.jpeg  \n",
            "  inflating: Covid19-dataset/train/Viral Pneumonia/03.jpeg  \n",
            "  inflating: Covid19-dataset/train/Viral Pneumonia/031.jpeg  \n",
            "  inflating: Covid19-dataset/train/Viral Pneumonia/032.jpeg  \n",
            "  inflating: Covid19-dataset/train/Viral Pneumonia/033.jpeg  \n",
            "  inflating: Covid19-dataset/train/Viral Pneumonia/034.jpeg  \n",
            "  inflating: Covid19-dataset/train/Viral Pneumonia/035.jpeg  \n",
            "  inflating: Covid19-dataset/train/Viral Pneumonia/036.jpeg  \n",
            "  inflating: Covid19-dataset/train/Viral Pneumonia/037.jpeg  \n",
            "  inflating: Covid19-dataset/train/Viral Pneumonia/038.jpeg  \n",
            "  inflating: Covid19-dataset/train/Viral Pneumonia/04.jpeg  \n",
            "  inflating: Covid19-dataset/train/Viral Pneumonia/041.jpeg  \n",
            "  inflating: Covid19-dataset/train/Viral Pneumonia/042.jpeg  \n",
            "  inflating: Covid19-dataset/train/Viral Pneumonia/043.jpeg  \n",
            "  inflating: Covid19-dataset/train/Viral Pneumonia/044.jpeg  \n",
            "  inflating: Covid19-dataset/train/Viral Pneumonia/045.jpeg  \n",
            "  inflating: Covid19-dataset/train/Viral Pneumonia/046.jpeg  \n",
            "  inflating: Covid19-dataset/train/Viral Pneumonia/047.jpeg  \n",
            "  inflating: Covid19-dataset/train/Viral Pneumonia/048.jpeg  \n",
            "  inflating: Covid19-dataset/train/Viral Pneumonia/05.jpeg  \n",
            "  inflating: Covid19-dataset/train/Viral Pneumonia/051.jpeg  \n",
            "  inflating: Covid19-dataset/train/Viral Pneumonia/052.jpeg  \n",
            "  inflating: Covid19-dataset/train/Viral Pneumonia/053.jpeg  \n",
            "  inflating: Covid19-dataset/train/Viral Pneumonia/054.jpeg  \n",
            "  inflating: Covid19-dataset/train/Viral Pneumonia/055.jpeg  \n",
            "  inflating: Covid19-dataset/train/Viral Pneumonia/056.jpeg  \n",
            "  inflating: Covid19-dataset/train/Viral Pneumonia/057.jpeg  \n",
            "  inflating: Covid19-dataset/train/Viral Pneumonia/058.jpeg  \n",
            "  inflating: Covid19-dataset/train/Viral Pneumonia/06.jpeg  \n",
            "  inflating: Covid19-dataset/train/Viral Pneumonia/061.jpeg  \n",
            "  inflating: Covid19-dataset/train/Viral Pneumonia/062.jpeg  \n",
            "  inflating: Covid19-dataset/train/Viral Pneumonia/063.jpeg  \n",
            "  inflating: Covid19-dataset/train/Viral Pneumonia/064.jpeg  \n",
            "  inflating: Covid19-dataset/train/Viral Pneumonia/065.jpeg  \n",
            "  inflating: Covid19-dataset/train/Viral Pneumonia/066.jpeg  \n",
            "  inflating: Covid19-dataset/train/Viral Pneumonia/067.jpeg  \n",
            "  inflating: Covid19-dataset/train/Viral Pneumonia/068.jpeg  \n",
            "  inflating: Covid19-dataset/train/Viral Pneumonia/07.jpeg  \n",
            "  inflating: Covid19-dataset/train/Viral Pneumonia/071.jpeg  \n",
            "  inflating: Covid19-dataset/train/Viral Pneumonia/072.jpeg  \n",
            "  inflating: Covid19-dataset/train/Viral Pneumonia/073.jpeg  \n",
            "  inflating: Covid19-dataset/train/Viral Pneumonia/074.jpeg  \n",
            "  inflating: Covid19-dataset/train/Viral Pneumonia/075.jpeg  \n",
            "  inflating: Covid19-dataset/train/Viral Pneumonia/076.jpeg  \n",
            "  inflating: Covid19-dataset/train/Viral Pneumonia/077.jpeg  \n",
            "  inflating: Covid19-dataset/train/Viral Pneumonia/078.jpeg  \n",
            "  inflating: Covid19-dataset/train/Viral Pneumonia/08.jpeg  \n",
            "  inflating: Covid19-dataset/train/Viral Pneumonia/081.jpeg  \n",
            "  inflating: Covid19-dataset/train/Viral Pneumonia/082.jpeg  \n",
            "  inflating: Covid19-dataset/train/Viral Pneumonia/083.jpeg  \n",
            "  inflating: Covid19-dataset/train/Viral Pneumonia/084.jpeg  \n",
            "  inflating: Covid19-dataset/train/Viral Pneumonia/09.jpeg  \n",
            "  inflating: Covid19-dataset/train/Viral Pneumonia/094.jpeg  \n",
            "  inflating: Covid19-dataset/train/Viral Pneumonia/095.jpeg  \n",
            "  inflating: Covid19-dataset/train/Viral Pneumonia/096.jpeg  \n"
          ]
        }
      ]
    },
    {
      "cell_type": "code",
      "source": [
        "print('Covid Image: ', len(os.listdir('/content/Covid19-dataset/train/Covid')))\n",
        "print('Normal Image: ', len(os.listdir('/content/Covid19-dataset/train/Normal')))\n",
        "print('Pneumonia Imae: ', len(os.listdir('/content/Covid19-dataset/train/Viral Pneumonia')))"
      ],
      "metadata": {
        "id": "eN8flos8RnkS",
        "colab": {
          "base_uri": "https://localhost:8080/"
        },
        "outputId": "948c047c-4789-4f83-a5c6-ef0af6d6e68d"
      },
      "execution_count": 5,
      "outputs": [
        {
          "output_type": "stream",
          "name": "stdout",
          "text": [
            "Covid Image:  111\n",
            "Normal Image:  70\n",
            "Pneumonia Imae:  70\n"
          ]
        }
      ]
    },
    {
      "cell_type": "code",
      "source": [
        "import cv2\n",
        "import matplotlib.pyplot as plt\n",
        "import numpy as np\n",
        "import pandas as pd"
      ],
      "metadata": {
        "id": "U74FyxSKdlnS"
      },
      "execution_count": 6,
      "outputs": []
    },
    {
      "cell_type": "code",
      "source": [
        "img1 = cv2.imread('Covid19-dataset/train/Covid/01.jpeg')\n",
        "plt.imshow(img1)"
      ],
      "metadata": {
        "colab": {
          "base_uri": "https://localhost:8080/",
          "height": 286
        },
        "id": "CeIs5Oaaf9Fa",
        "outputId": "cd268865-6e0b-4dc0-f3f1-831bae504ac1"
      },
      "execution_count": 7,
      "outputs": [
        {
          "output_type": "execute_result",
          "data": {
            "text/plain": [
              "<matplotlib.image.AxesImage at 0x7f9d8ea9be20>"
            ]
          },
          "metadata": {},
          "execution_count": 7
        },
        {
          "output_type": "display_data",
          "data": {
            "text/plain": [
              "<Figure size 432x288 with 1 Axes>"
            ],
            "image/png": "[encoded data removed]"
          },
          "metadata": {
            "needs_background": "light"
          }
        }
      ]
    },
    {
      "cell_type": "code",
      "source": [
        "img1.shape"
      ],
      "metadata": {
        "colab": {
          "base_uri": "https://localhost:8080/"
        },
        "id": "myO4zMOQgtvm",
        "outputId": "c0238454-97b4-49b1-f953-315a2dfa76ca"
      },
      "execution_count": 8,
      "outputs": [
        {
          "output_type": "execute_result",
          "data": {
            "text/plain": [
              "(3480, 4248, 3)"
            ]
          },
          "metadata": {},
          "execution_count": 8
        }
      ]
    },
    {
      "cell_type": "code",
      "source": [
        "#urls = os.listdir('Covid19-dataset/train/Covid')\n",
        "#urls"
      ],
      "metadata": {
        "id": "wcqzWcuAhcsq"
      },
      "execution_count": 9,
      "outputs": []
    },
    {
      "cell_type": "code",
      "source": [
        "#path = \"Covid19-dataset/train/Covid\" + urls[0]\n",
        "#path"
      ],
      "metadata": {
        "id": "d9wgqkv51GD3"
      },
      "execution_count": 10,
      "outputs": []
    },
    {
      "cell_type": "code",
      "source": [
        "def loadImages(path, urls, target):\n",
        "  images = []\n",
        "  labels = []\n",
        "  for i in range(len(urls)):\n",
        "    img_path = path + \"/\" + urls[i]\n",
        "    img = cv2.imread(img_path)\n",
        "    img = img/255\n",
        "    img = cv2.resize(img, (299,299))\n",
        "    images.append(img)\n",
        "    labels.append(target)\n",
        "  images = np.asarray(images)\n",
        "  return images, labels"
      ],
      "metadata": {
        "id": "vOGZJ1rH0VCA"
      },
      "execution_count": 11,
      "outputs": []
    },
    {
      "cell_type": "code",
      "source": [
        "covid_path = \"Covid19-dataset/train/Covid\"\n",
        "covid_url = os.listdir(covid_path)\n",
        "covid_images, covid_targets = loadImages(covid_path, covid_url, 1)"
      ],
      "metadata": {
        "id": "KathzmC7WHEa"
      },
      "execution_count": 12,
      "outputs": []
    },
    {
      "cell_type": "code",
      "source": [
        "covid_images.shape"
      ],
      "metadata": {
        "colab": {
          "base_uri": "https://localhost:8080/"
        },
        "id": "OTxCP3EDoBdO",
        "outputId": "c5e04ee1-d8c6-4666-ba89-5ac6a4a2e8a8"
      },
      "execution_count": 13,
      "outputs": [
        {
          "output_type": "execute_result",
          "data": {
            "text/plain": [
              "(111, 299, 299, 3)"
            ]
          },
          "metadata": {},
          "execution_count": 13
        }
      ]
    },
    {
      "cell_type": "code",
      "source": [
        "normal_path = 'Covid19-dataset/train/Normal'\n",
        "normal_url = os.listdir(normal_path)\n",
        "normal_images, normal_targets = loadImages(normal_path, normal_url, 0)"
      ],
      "metadata": {
        "id": "K6RSEjJCada_"
      },
      "execution_count": 14,
      "outputs": []
    },
    {
      "cell_type": "code",
      "source": [
        "normal_images.shape"
      ],
      "metadata": {
        "colab": {
          "base_uri": "https://localhost:8080/"
        },
        "id": "80WLf-Yk47W-",
        "outputId": "48696f80-37fb-4f65-f6d3-579ebf75980e"
      },
      "execution_count": 15,
      "outputs": [
        {
          "output_type": "execute_result",
          "data": {
            "text/plain": [
              "(70, 299, 299, 3)"
            ]
          },
          "metadata": {},
          "execution_count": 15
        }
      ]
    },
    {
      "cell_type": "code",
      "source": [
        "len(covid_url), len(covid_images)"
      ],
      "metadata": {
        "colab": {
          "base_uri": "https://localhost:8080/"
        },
        "id": "2HFlbWiXdN63",
        "outputId": "e28d8015-c16e-48f5-ae2e-fa806d24e6ff"
      },
      "execution_count": 16,
      "outputs": [
        {
          "output_type": "execute_result",
          "data": {
            "text/plain": [
              "(111, 111)"
            ]
          },
          "metadata": {},
          "execution_count": 16
        }
      ]
    },
    {
      "cell_type": "code",
      "source": [
        "data = np.r_[covid_images, normal_images]\n",
        "data.shape"
      ],
      "metadata": {
        "colab": {
          "base_uri": "https://localhost:8080/"
        },
        "id": "Sg_TfSPPfgDe",
        "outputId": "a7cacaaa-d9a3-4a02-e914-16a944777da8"
      },
      "execution_count": 17,
      "outputs": [
        {
          "output_type": "execute_result",
          "data": {
            "text/plain": [
              "(181, 299, 299, 3)"
            ]
          },
          "metadata": {},
          "execution_count": 17
        }
      ]
    },
    {
      "cell_type": "code",
      "source": [
        "targets = np.r_[covid_targets, normal_targets]\n",
        "targets.shape"
      ],
      "metadata": {
        "colab": {
          "base_uri": "https://localhost:8080/"
        },
        "id": "jBbI9M1X0YYy",
        "outputId": "4fc2b769-b8ee-4f3c-d1f6-2afe80561bc3"
      },
      "execution_count": 18,
      "outputs": [
        {
          "output_type": "execute_result",
          "data": {
            "text/plain": [
              "(181,)"
            ]
          },
          "metadata": {},
          "execution_count": 18
        }
      ]
    },
    {
      "cell_type": "code",
      "source": [
        "from sklearn.model_selection import train_test_split"
      ],
      "metadata": {
        "id": "PZC_7Ist7pMy"
      },
      "execution_count": 19,
      "outputs": []
    },
    {
      "cell_type": "code",
      "source": [
        "x_train, x_test, y_train, y_test = train_test_split(data, targets, test_size=0.25)\n"
      ],
      "metadata": {
        "id": "e7UnS0GFPqhx"
      },
      "execution_count": 20,
      "outputs": []
    },
    {
      "cell_type": "code",
      "source": [
        "import tensorflow as tf"
      ],
      "metadata": {
        "id": "CEF7DtyIQW1o"
      },
      "execution_count": 21,
      "outputs": []
    },
    {
      "cell_type": "code",
      "source": [
        "from tensorflow.keras.models import Sequential\n",
        "from tensorflow.keras.layers import Conv2D, MaxPooling2D, Flatten, Dense"
      ],
      "metadata": {
        "id": "RnHHZiUeQmd7"
      },
      "execution_count": 22,
      "outputs": []
    },
    {
      "cell_type": "code",
      "source": [
        "model = Sequential([\n",
        "    Conv2D(32,3, input_shape = (299, 299, 3), activation = 'relu'),\n",
        "    MaxPooling2D(),\n",
        "    Conv2D(16,3, activation = 'relu'),\n",
        "    MaxPooling2D(),\n",
        "    Conv2D(16,3, activation = 'relu'),\n",
        "    MaxPooling2D(),\n",
        "    Flatten(),\n",
        "    Dense(512, activation = 'relu'),\n",
        "    Dense(256, activation = 'relu'),\n",
        "    Dense(1, activation = 'sigmoid'),\n",
        "])"
      ],
      "metadata": {
        "id": "sJGpFPypRixb"
      },
      "execution_count": 23,
      "outputs": []
    },
    {
      "cell_type": "code",
      "source": [
        "model.summary()"
      ],
      "metadata": {
        "colab": {
          "base_uri": "https://localhost:8080/"
        },
        "id": "fGQbW_6-UQ57",
        "outputId": "a66eb94d-bcab-4501-afe1-4ceceb652fb5"
      },
      "execution_count": 24,
      "outputs": [
        {
          "output_type": "stream",
          "name": "stdout",
          "text": [
            "Model: \"sequential\"\n",
            "_________________________________________________________________\n",
            " Layer (type)                Output Shape              Param #   \n",
            "=================================================================\n",
            " conv2d (Conv2D)             (None, 297, 297, 32)      896       \n",
            "                                                                 \n",
            " max_pooling2d (MaxPooling2D  (None, 148, 148, 32)     0         \n",
            " )                                                               \n",
            "                                                                 \n",
            " conv2d_1 (Conv2D)           (None, 146, 146, 16)      4624      \n",
            "                                                                 \n",
            " max_pooling2d_1 (MaxPooling  (None, 73, 73, 16)       0         \n",
            " 2D)                                                             \n",
            "                                                                 \n",
            " conv2d_2 (Conv2D)           (None, 71, 71, 16)        2320      \n",
            "                                                                 \n",
            " max_pooling2d_2 (MaxPooling  (None, 35, 35, 16)       0         \n",
            " 2D)                                                             \n",
            "                                                                 \n",
            " flatten (Flatten)           (None, 19600)             0         \n",
            "                                                                 \n",
            " dense (Dense)               (None, 512)               10035712  \n",
            "                                                                 \n",
            " dense_1 (Dense)             (None, 256)               131328    \n",
            "                                                                 \n",
            " dense_2 (Dense)             (None, 1)                 257       \n",
            "                                                                 \n",
            "=================================================================\n",
            "Total params: 10,175,137\n",
            "Trainable params: 10,175,137\n",
            "Non-trainable params: 0\n",
            "_________________________________________________________________\n"
          ]
        }
      ]
    },
    {
      "cell_type": "code",
      "source": [
        "model.compile(optimizer='adam', loss=tf.keras.losses.BinaryCrossentropy(),metrics=['accuracy'])"
      ],
      "metadata": {
        "id": "GeG_GNP2NJjw"
      },
      "execution_count": 25,
      "outputs": []
    },
    {
      "cell_type": "code",
      "source": [
        "model.fit(x_train, y_train,batch_size=32,epochs=5,validation_data=(x_test, y_test))"
      ],
      "metadata": {
        "colab": {
          "base_uri": "https://localhost:8080/"
        },
        "id": "UG2TnatANbKK",
        "outputId": "23c0a0ab-6658-43e6-b981-b6f39da3b6a8"
      },
      "execution_count": 26,
      "outputs": [
        {
          "output_type": "stream",
          "name": "stdout",
          "text": [
            "Epoch 1/5\n",
            "5/5 [==============================] - 13s 256ms/step - loss: 0.8184 - accuracy: 0.4000 - val_loss: 0.6692 - val_accuracy: 0.6087\n",
            "Epoch 2/5\n",
            "5/5 [==============================] - 0s 68ms/step - loss: 0.6381 - accuracy: 0.6593 - val_loss: 0.6986 - val_accuracy: 0.5217\n",
            "Epoch 3/5\n",
            "5/5 [==============================] - 0s 68ms/step - loss: 0.5930 - accuracy: 0.6519 - val_loss: 0.4719 - val_accuracy: 0.9565\n",
            "Epoch 4/5\n",
            "5/5 [==============================] - 0s 69ms/step - loss: 0.3760 - accuracy: 0.9481 - val_loss: 0.1725 - val_accuracy: 0.9783\n",
            "Epoch 5/5\n",
            "5/5 [==============================] - 0s 66ms/step - loss: 0.1483 - accuracy: 0.9704 - val_loss: 0.1191 - val_accuracy: 0.9783\n"
          ]
        },
        {
          "output_type": "execute_result",
          "data": {
            "text/plain": [
              "<keras.callbacks.History at 0x7f9cd429c3d0>"
            ]
          },
          "metadata": {},
          "execution_count": 26
        }
      ]
    },
    {
      "cell_type": "code",
      "source": [
        "plt.plot(model.history.history['accuracy'], label = 'train accuracy')\n",
        "plt.plot(model.history.history['val_accuracy'],label = 'test_accuracy')\n",
        "plt.legend()\n",
        "plt.show()"
      ],
      "metadata": {
        "colab": {
          "base_uri": "https://localhost:8080/",
          "height": 267
        },
        "id": "VpwIqRXONiSi",
        "outputId": "7ac3c479-ffc1-45ad-8237-8945bfdeebe2"
      },
      "execution_count": 27,
      "outputs": [
        {
          "output_type": "display_data",
          "data": {
            "text/plain": [
              "<Figure size 432x288 with 1 Axes>"
            ],
            "image/png": "[encoded data removed]"
          },
          "metadata": {
            "needs_background": "light"
          }
        }
      ]
    },
    {
      "cell_type": "code",
      "source": [
        "plt.plot(model.history.history['loss'], label = 'train loss')\n",
        "plt.plot(model.history.history['val_loss'],label = 'test_loss')\n",
        "plt.legend()\n",
        "plt.show()"
      ],
      "metadata": {
        "colab": {
          "base_uri": "https://localhost:8080/",
          "height": 265
        },
        "id": "9HrQozFCNkuG",
        "outputId": "f10946f3-d99f-4150-ae7f-606ba0714805"
      },
      "execution_count": 28,
      "outputs": [
        {
          "output_type": "display_data",
          "data": {
            "text/plain": [
              "<Figure size 432x288 with 1 Axes>"
            ],
            "image/png": "[encoded data removed]"
          },
          "metadata": {
            "needs_background": "light"
          }
        }
      ]
    },
    {
      "cell_type": "code",
      "source": [
        " img = cv2.imread('/content/Covid19-dataset/test/Normal/0101.jpeg')\n",
        " img = cv2.resize(img,(299,299))\n",
        " img = np.reshape(img,[-1,299,299,3])\n",
        " img = np.array(img)\n",
        " res = model.predict(img)\n",
        "if res == 1:\n",
        "  print(\"Patient is having COVID\")\n",
        "else:\n",
        "  print(\"Patient is Normal\")"
      ],
      "metadata": {
        "colab": {
          "base_uri": "https://localhost:8080/"
        },
        "id": "TXT_sFsEu2W0",
        "outputId": "b3f5c488-2cf7-433d-d0a5-e720e12d162e"
      },
      "execution_count": 29,
      "outputs": [
        {
          "output_type": "stream",
          "name": "stdout",
          "text": [
            "1/1 [==============================] - 0s 170ms/step\n",
            "Patient is Normal\n"
          ]
        }
      ]
    }
  ]
}